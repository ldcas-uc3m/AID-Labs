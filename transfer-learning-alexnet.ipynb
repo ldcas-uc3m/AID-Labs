{
 "cells": [
  {
   "cell_type": "markdown",
   "metadata": {},
   "source": [
    "# Transfer Learning with AlexNet"
   ]
  },
  {
   "cell_type": "code",
   "execution_count": null,
   "metadata": {
    "id": "Q0GBsoYcKMRc"
   },
   "outputs": [],
   "source": [
    "!curl -L -o data/rice-image-dataset.zip https://www.kaggle.com/api/v1/datasets/download/muratkokludataset/rice-image-dataset"
   ]
  },
  {
   "cell_type": "code",
   "execution_count": null,
   "metadata": {},
   "outputs": [],
   "source": [
    "!unzip -q data/rice-image-dataset.zip -d data/"
   ]
  },
  {
   "cell_type": "code",
   "execution_count": 1,
   "metadata": {
    "colab": {
     "base_uri": "https://localhost:8080/"
    },
    "executionInfo": {
     "elapsed": 2102,
     "status": "ok",
     "timestamp": 1710762033427,
     "user": {
      "displayName": "Pablo Guti Ruiz",
      "userId": "07443762493544230230"
     },
     "user_tz": -60
    },
    "id": "tvhqGk_RRhwp",
    "outputId": "6924f3d0-a10a-4c99-e0f1-ada84624fb49"
   },
   "outputs": [
    {
     "name": "stdout",
     "output_type": "stream",
     "text": [
      "Dispositivo disponible: cpu\n"
     ]
    }
   ],
   "source": [
    "import torch\n",
    "\n",
    "device = torch.device(\"cuda\" if torch.cuda.is_available() else \"cpu\")\n",
    "\n",
    "print(f\"Dispositivo disponible: {device}\")"
   ]
  },
  {
   "cell_type": "markdown",
   "metadata": {
    "id": "CdDizIE9Rmdx"
   },
   "source": [
    "## División de los conjuntos de train, val y test"
   ]
  },
  {
   "cell_type": "code",
   "execution_count": 2,
   "metadata": {
    "colab": {
     "base_uri": "https://localhost:8080/"
    },
    "executionInfo": {
     "elapsed": 238,
     "status": "ok",
     "timestamp": 1710760579754,
     "user": {
      "displayName": "Pablo Guti Ruiz",
      "userId": "07443762493544230230"
     },
     "user_tz": -60
    },
    "id": "3_pFkEz2RmBe",
    "outputId": "cba2308a-b5ed-4156-a437-3b70241a0ae4"
   },
   "outputs": [],
   "source": [
    "import splitfolders\n",
    "\n",
    "input_dir = 'data/Rice_Image_Dataset'\n",
    "dataset_path = 'data/rice-dataset-sample-splits'\n",
    "\n",
    "splitfolders.ratio(\n",
    "    input_dir,\n",
    "    output=dataset_path,\n",
    "    seed=42,\n",
    "    ratio=(.7, .2, .1)\n",
    ")"
   ]
  },
  {
   "cell_type": "markdown",
   "metadata": {
    "id": "zbdWrzlLRt3U"
   },
   "source": [
    "## Instanciar DataLoaders"
   ]
  },
  {
   "cell_type": "code",
   "execution_count": 3,
   "metadata": {
    "id": "yrFzvscnRs-o"
   },
   "outputs": [],
   "source": [
    "from torchvision import transforms\n",
    "\n",
    "transform = transforms.Compose([\n",
    "    transforms.Resize((224, 224)),\n",
    "    transforms.ToTensor(),\n",
    "    transforms.Normalize(mean=[0.485, 0.456, 0.406], std=[0.229, 0.224, 0.225]),\n",
    "])"
   ]
  },
  {
   "cell_type": "code",
   "execution_count": 4,
   "metadata": {
    "id": "m-yXbH-rRwV7"
   },
   "outputs": [],
   "source": [
    "from torchvision import datasets\n",
    "\n",
    "train_dataset = datasets.ImageFolder(root=f\"{dataset_path}/train\", transform=transform)\n",
    "val_dataset = datasets.ImageFolder(root=f\"{dataset_path}/val\", transform=transform)\n",
    "test_dataset = datasets.ImageFolder(root=f\"{dataset_path}/test\", transform=transform)"
   ]
  },
  {
   "cell_type": "code",
   "execution_count": 5,
   "metadata": {
    "id": "H6vbecz8Rxn_"
   },
   "outputs": [],
   "source": [
    "from torch.utils.data import DataLoader\n",
    "\n",
    "batch_size = 16\n",
    "shuffle = True\n",
    "\n",
    "train_dataloader = DataLoader(train_dataset, batch_size=batch_size, shuffle=shuffle)\n",
    "val_dataloader = DataLoader(val_dataset, batch_size=batch_size, shuffle=shuffle)\n",
    "test_dataloader = DataLoader(test_dataset, batch_size=batch_size, shuffle=shuffle)"
   ]
  },
  {
   "cell_type": "markdown",
   "metadata": {
    "id": "W3i5kNh-W2Bn"
   },
   "source": [
    "## Instanciar modelo para transfer learning"
   ]
  },
  {
   "cell_type": "code",
   "execution_count": 6,
   "metadata": {
    "colab": {
     "base_uri": "https://localhost:8080/"
    },
    "executionInfo": {
     "elapsed": 1616,
     "status": "ok",
     "timestamp": 1710762039826,
     "user": {
      "displayName": "Pablo Guti Ruiz",
      "userId": "07443762493544230230"
     },
     "user_tz": -60
    },
    "id": "alcT7dDRRy6S",
    "outputId": "898b4bb6-b276-4a88-87bb-9c1d685e9270"
   },
   "outputs": [
    {
     "name": "stderr",
     "output_type": "stream",
     "text": [
      "/home/ldcas/cum3/AID-Labs/.venv/lib/python3.13/site-packages/torchvision/models/_utils.py:208: UserWarning: The parameter 'pretrained' is deprecated since 0.13 and may be removed in the future, please use 'weights' instead.\n",
      "  warnings.warn(\n",
      "/home/ldcas/cum3/AID-Labs/.venv/lib/python3.13/site-packages/torchvision/models/_utils.py:223: UserWarning: Arguments other than a weight enum or `None` for 'weights' are deprecated since 0.13 and may be removed in the future. The current behavior is equivalent to passing `weights=AlexNet_Weights.IMAGENET1K_V1`. You can also use `weights=AlexNet_Weights.DEFAULT` to get the most up-to-date weights.\n",
      "  warnings.warn(msg)\n",
      "Downloading: \"https://download.pytorch.org/models/alexnet-owt-7be5be79.pth\" to /home/ldcas/.cache/torch/hub/checkpoints/alexnet-owt-7be5be79.pth\n",
      "100.0%\n"
     ]
    },
    {
     "data": {
      "text/plain": [
       "AlexNet(\n",
       "  (features): Sequential(\n",
       "    (0): Conv2d(3, 64, kernel_size=(11, 11), stride=(4, 4), padding=(2, 2))\n",
       "    (1): ReLU(inplace=True)\n",
       "    (2): MaxPool2d(kernel_size=3, stride=2, padding=0, dilation=1, ceil_mode=False)\n",
       "    (3): Conv2d(64, 192, kernel_size=(5, 5), stride=(1, 1), padding=(2, 2))\n",
       "    (4): ReLU(inplace=True)\n",
       "    (5): MaxPool2d(kernel_size=3, stride=2, padding=0, dilation=1, ceil_mode=False)\n",
       "    (6): Conv2d(192, 384, kernel_size=(3, 3), stride=(1, 1), padding=(1, 1))\n",
       "    (7): ReLU(inplace=True)\n",
       "    (8): Conv2d(384, 256, kernel_size=(3, 3), stride=(1, 1), padding=(1, 1))\n",
       "    (9): ReLU(inplace=True)\n",
       "    (10): Conv2d(256, 256, kernel_size=(3, 3), stride=(1, 1), padding=(1, 1))\n",
       "    (11): ReLU(inplace=True)\n",
       "    (12): MaxPool2d(kernel_size=3, stride=2, padding=0, dilation=1, ceil_mode=False)\n",
       "  )\n",
       "  (avgpool): AdaptiveAvgPool2d(output_size=(6, 6))\n",
       "  (classifier): Sequential(\n",
       "    (0): Dropout(p=0.5, inplace=False)\n",
       "    (1): Linear(in_features=9216, out_features=4096, bias=True)\n",
       "    (2): ReLU(inplace=True)\n",
       "    (3): Dropout(p=0.5, inplace=False)\n",
       "    (4): Linear(in_features=4096, out_features=4096, bias=True)\n",
       "    (5): ReLU(inplace=True)\n",
       "    (6): Linear(in_features=4096, out_features=5, bias=True)\n",
       "  )\n",
       ")"
      ]
     },
     "execution_count": 6,
     "metadata": {},
     "output_type": "execute_result"
    }
   ],
   "source": [
    "from torchvision import models\n",
    "\n",
    "# Instancia el modelo AlexNet preentrenado.\n",
    "alexnet = models.alexnet(pretrained=True)\n",
    "\n",
    "# Modifica la última capa de la red a una capa lineal\n",
    "# Ten en cuenta que el número de features de entrada es el mismo que el número de entradas que tuviera en el modelo original\n",
    "# Ten en cuenta que el número de features de salida debe ser 5 (porque tenemos 5 clases)\n",
    "alexnet.classifier[6] = torch.nn.Linear(alexnet.classifier[6].in_features, 5)\n",
    "alexnet.to(device)"
   ]
  },
  {
   "cell_type": "markdown",
   "metadata": {
    "id": "51GmCoGKW5pe"
   },
   "source": [
    "## Entrenamiento de la red neuronal (transfer learning)"
   ]
  },
  {
   "cell_type": "code",
   "execution_count": 7,
   "metadata": {
    "id": "RO7lYrwdSIT9"
   },
   "outputs": [],
   "source": [
    "import torch.optim as optim\n",
    "\n",
    "criterion = torch.nn.CrossEntropyLoss()\n",
    "optimizer = optim.Adam(alexnet.parameters())"
   ]
  },
  {
   "cell_type": "code",
   "execution_count": null,
   "metadata": {
    "colab": {
     "base_uri": "https://localhost:8080/"
    },
    "executionInfo": {
     "elapsed": 16704,
     "status": "ok",
     "timestamp": 1710762056527,
     "user": {
      "displayName": "Pablo Guti Ruiz",
      "userId": "07443762493544230230"
     },
     "user_tz": -60
    },
    "id": "ICXUaI-0SLxb",
    "outputId": "6f620922-43b0-42de-cfd0-de6ac3a7ae50"
   },
   "outputs": [],
   "source": [
    "num_epochs = 15\n",
    "\n",
    "best_val_loss = float(\"inf\")\n",
    "patience = 5\n",
    "patience_counter = 0\n",
    "\n",
    "for epoch in range(num_epochs):\n",
    "  alexnet.train()\n",
    "  running_loss = 0.0\n",
    "  for inputs, labels in train_dataloader:\n",
    "    inputs, labels = inputs.to(device), labels.to(device)\n",
    "\n",
    "    optimizer.zero_grad()\n",
    "\n",
    "    # Calcula la salida del modelo\n",
    "    outputs = alexnet(inputs)\n",
    "\n",
    "    loss = criterion(outputs, labels)\n",
    "    loss.backward()\n",
    "    optimizer.step()\n",
    "\n",
    "    running_loss += loss.item()\n",
    "\n",
    "  epoch_loss = running_loss / len(train_dataloader)\n",
    "\n",
    "  val_loss = 0.0\n",
    "  alexnet.eval()\n",
    "  with torch.no_grad():\n",
    "    for inputs, labels in val_dataloader:\n",
    "      inputs, labels = inputs.to(device), labels.to(device)\n",
    "      outputs = alexnet(inputs)\n",
    "      loss = criterion(outputs, labels)\n",
    "      val_loss += loss.item()\n",
    "\n",
    "  val_loss /= len(val_dataloader)\n",
    "\n",
    "  print(f\"Epoch: {epoch+1} Train loss: {epoch_loss} Val loss: {val_loss}\")\n",
    "\n",
    "  # Early Stopping\n",
    "  # Intenta programar un early_stopping.\n",
    "  # TIP:  Early stopping busca parar el entrenamiento cuando la loss de validación no mejora en \"n\" steps.\n",
    "  if val_loss < best_val_loss:\n",
    "    best_val_loss = val_loss\n",
    "    torch.save(alexnet.state_dict(), \"best_model.pth\")\n",
    "    patience_counter = 0\n",
    "    print(\"Improved model\")\n",
    "  else:\n",
    "    patience_counter += 1\n",
    "\n",
    "  if patience_counter >= patience:\n",
    "    print(\"Training stopped\")\n",
    "    break"
   ]
  },
  {
   "cell_type": "markdown",
   "metadata": {
    "id": "Hntj313JXWFk"
   },
   "source": [
    "## Evaluar el modelo"
   ]
  },
  {
   "cell_type": "code",
   "execution_count": null,
   "metadata": {
    "colab": {
     "base_uri": "https://localhost:8080/"
    },
    "executionInfo": {
     "elapsed": 2502,
     "status": "ok",
     "timestamp": 1710762140881,
     "user": {
      "displayName": "Pablo Guti Ruiz",
      "userId": "07443762493544230230"
     },
     "user_tz": -60
    },
    "id": "5NsoQ6wTT-nF",
    "outputId": "18394c58-4efc-41fa-d681-569c98dfb40a"
   },
   "outputs": [
    {
     "name": "stdout",
     "output_type": "stream",
     "text": [
      "              precision    recall  f1-score   support\n",
      "\n",
      "     Arborio       0.27      0.86      0.41         7\n",
      "     Basmati       0.00      0.00      0.00         7\n",
      "      Ipsala       0.00      0.00      0.00         7\n",
      "     Jasmine       0.00      0.00      0.00         7\n",
      "   Karacadag       0.00      0.00      0.00         7\n",
      "\n",
      "    accuracy                           0.17        35\n",
      "   macro avg       0.05      0.17      0.08        35\n",
      "weighted avg       0.05      0.17      0.08        35\n",
      "\n"
     ]
    },
    {
     "name": "stderr",
     "output_type": "stream",
     "text": [
      "/usr/local/lib/python3.10/dist-packages/sklearn/metrics/_classification.py:1344: UndefinedMetricWarning: Precision and F-score are ill-defined and being set to 0.0 in labels with no predicted samples. Use `zero_division` parameter to control this behavior.\n",
      "  _warn_prf(average, modifier, msg_start, len(result))\n",
      "/usr/local/lib/python3.10/dist-packages/sklearn/metrics/_classification.py:1344: UndefinedMetricWarning: Precision and F-score are ill-defined and being set to 0.0 in labels with no predicted samples. Use `zero_division` parameter to control this behavior.\n",
      "  _warn_prf(average, modifier, msg_start, len(result))\n",
      "/usr/local/lib/python3.10/dist-packages/sklearn/metrics/_classification.py:1344: UndefinedMetricWarning: Precision and F-score are ill-defined and being set to 0.0 in labels with no predicted samples. Use `zero_division` parameter to control this behavior.\n",
      "  _warn_prf(average, modifier, msg_start, len(result))\n"
     ]
    }
   ],
   "source": [
    "from sklearn.metrics import classification_report\n",
    "\n",
    "alexnet.eval()\n",
    "all_preds = []\n",
    "all_labels = []\n",
    "\n",
    "with torch.no_grad():\n",
    "  for inputs, labels in train_dataloader:\n",
    "    inputs, labels = inputs.to(device), labels.to(device)\n",
    "\n",
    "    outputs = alexnet(inputs)\n",
    "\n",
    "    _, preds = torch.max(outputs, 1)\n",
    "\n",
    "    all_preds.extend(preds.numpy(force=True))\n",
    "    all_labels.extend(labels.numpy(force=True))\n",
    "\n",
    "print(classification_report(all_labels, all_preds, target_names=test_dataset.classes))"
   ]
  }
 ],
 "metadata": {
  "colab": {
   "authorship_tag": "ABX9TyP+7FVQCKUNHFEIQtauwwrd",
   "provenance": []
  },
  "kernelspec": {
   "display_name": ".venv",
   "language": "python",
   "name": "python3"
  },
  "language_info": {
   "codemirror_mode": {
    "name": "ipython",
    "version": 3
   },
   "file_extension": ".py",
   "mimetype": "text/x-python",
   "name": "python",
   "nbconvert_exporter": "python",
   "pygments_lexer": "ipython3",
   "version": "3.13.2"
  }
 },
 "nbformat": 4,
 "nbformat_minor": 0
}

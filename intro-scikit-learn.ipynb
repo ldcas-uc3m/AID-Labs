{
 "cells": [
  {
   "cell_type": "markdown",
   "metadata": {
    "id": "48DpY5tN0u8-"
   },
   "source": [
    "\n",
    "# UC3M - Análsis Inteligente de Datos\n",
    "\n",
    "# Introducción a scikit-learn"
   ]
  },
  {
   "cell_type": "markdown",
   "metadata": {
    "id": "R1K7wRRJKWZC"
   },
   "source": [
    "## ¿Qué es scikit-learn?\n",
    "\n",
    "- Scikit-learn es una de las librerías de machine learning más populares y ampliamente utilziadas para Python.\n",
    "\n",
    "- Incluye una amplia gama de algoritmos para clasificación, regresión, clustering, y reducción de dimensionalidad, así como herramientas de selección de modelos y preprocesamiento de datos.\n",
    "\n",
    "- Ofrece una API consistente para la creación y evaluación de modelos de machine learning.\n",
    "\n",
    "- Tiene una extensa documentación con numeros ejemplos de uso.\n",
    "\n",
    "- La comunidad open source alrededor de scikit-learn es muy amplia, con numeros recursos en la web.\n",
    "\n",
    "- Está disponible bajo una licencia BSD (licencia de código abierto), que permite su uso gratuito tanto en proyectos comerciales como de código abierto.\n",
    "\n",
    "Enlace a la [documentación de scikit-learn](https://scikit-learn.org/stable/index.html)"
   ]
  },
  {
   "cell_type": "markdown",
   "metadata": {
    "id": "_1oWRnyOLzjs"
   },
   "source": [
    "## Instalación de scikit-learn\n",
    "\n",
    "En los entornos de Google Colab, scikit-learn ya se encuentra instalado, pero si necesitas instalarlo en otro entorno hay que ejecutar el comando: `pip install scikit-learn`."
   ]
  },
  {
   "cell_type": "code",
   "execution_count": 19,
   "metadata": {
    "id": "EphyQIqzL8xJ"
   },
   "outputs": [],
   "source": [
    "# !pip install scikit-learn"
   ]
  },
  {
   "cell_type": "markdown",
   "metadata": {
    "id": "RcuWgTSyMWoI"
   },
   "source": [
    "## Carga de datos\n",
    "\n",
    "La librería de scikit-learn ya contiene algunos datasets precargados para pober trabajar con ellos.\n",
    "\n",
    "[Lista](https://scikit-learn.org/stable/modules/classes.html#module-sklearn.datasets) de todos los datasets existentes en scikit-learn."
   ]
  },
  {
   "cell_type": "code",
   "execution_count": 1,
   "metadata": {
    "id": "vHx4M473MTkS"
   },
   "outputs": [],
   "source": [
    "from sklearn.datasets import load_iris\n",
    "\n",
    "iris = load_iris()\n",
    "X, y = iris.data, iris.target"
   ]
  },
  {
   "cell_type": "markdown",
   "metadata": {
    "id": "7wPfaZW9iyDA"
   },
   "source": [
    "## Información básica del dataset"
   ]
  },
  {
   "cell_type": "markdown",
   "metadata": {
    "id": "gU0Ofxarj9L-"
   },
   "source": [
    "TAREA: Utiliza el dataset iris de scikit-learn cargado anteriormente para resolver las siguientes cuestiones:\n",
    "\n",
    "1. Mostrar los 10 primeros datos de los predictores (features).\n",
    "2. Mostrar los 10 primeros datos del target (variable a predecir).\n",
    "3. Mostrar la dimensión de los predictores y del target.\n",
    "4. Mostrar los nombres de las columnas de los predictrores.\n",
    "5. Mostrar los nombres de las clases del target.\n",
    "\n",
    "Esqueleto del código:"
   ]
  },
  {
   "cell_type": "code",
   "execution_count": 2,
   "metadata": {
    "id": "lmXZbbA-NGw_"
   },
   "outputs": [
    {
     "name": "stdout",
     "output_type": "stream",
     "text": [
      "Muestra de las 10 primeras filas de X:\n",
      "[[5.1 3.5 1.4 0.2]\n",
      " [4.9 3.  1.4 0.2]\n",
      " [4.7 3.2 1.3 0.2]\n",
      " [4.6 3.1 1.5 0.2]\n",
      " [5.  3.6 1.4 0.2]\n",
      " [5.4 3.9 1.7 0.4]\n",
      " [4.6 3.4 1.4 0.3]\n",
      " [5.  3.4 1.5 0.2]\n",
      " [4.4 2.9 1.4 0.2]\n",
      " [4.9 3.1 1.5 0.1]]\n",
      "\n",
      "Muestra de los 10 primeros targets en y:\n",
      "[0 0 0 0 0 0 0 0 0 0]\n",
      "\n",
      "Dimensión de X: (150, 4)\n",
      "Dimensión de y: (150,)\n",
      "\n",
      "Nombre de las columnas: ['sepal length (cm)', 'sepal width (cm)', 'petal length (cm)', 'petal width (cm)']\n",
      "\n",
      "Nombre de los target: ['setosa' 'versicolor' 'virginica']\n"
     ]
    }
   ],
   "source": [
    "# 1. Mostrar los 10 primeros datos de los preditores\n",
    "print(f\"Muestra de las 10 primeras filas de X:\\n{X[:10]}\")\n",
    "\n",
    "# 2. Mostrar los 10 primeros datos del target\n",
    "print(f\"\\nMuestra de los 10 primeros targets en y:\\n{y[:10]}\")\n",
    "\n",
    "# 3. Mostrar la dimensión de los predictores y del target\n",
    "print(f\"\\nDimensión de X: {X.shape}\")\n",
    "print(f\"Dimensión de y: {y.shape}\")\n",
    "\n",
    "# 4. Mostrar los nombres de las columnas de los predictores\n",
    "print(f\"\\nNombre de las columnas: {iris.feature_names}\")\n",
    "\n",
    "# 5. Mostrar los nombres de las clases del target\n",
    "print(f\"\\nNombre de los target: {iris.target_names}\")"
   ]
  },
  {
   "cell_type": "markdown",
   "metadata": {
    "id": "NeTqXtSClGUN"
   },
   "source": [
    "TAREA: Ahora utiliza el dataset **breast_cancer** de scikit-learn para repetir lo realizado anteriormente:\n",
    "\n",
    "1. Cargar el dataset **breast_cancer** (mira la documentación de scikit-learn si tienes dudas):\n",
    "  \n",
    "  1.1 Almacena los predictores en una variable X\n",
    "  \n",
    "  1.2 Almacena el target en una variable y\n",
    "2. Mostrar los 5 primeros datos de los predictores (features).\n",
    "3. Mostrar los 5 primeros datos del target (variable a predecir).\n",
    "4. Mostrar la dimensión de los predictores y del target.\n",
    "5. Mostrar los nombres de las columnas de los predictrores.\n",
    "6. Mostrar los nombres de las clases del target."
   ]
  },
  {
   "cell_type": "code",
   "execution_count": 3,
   "metadata": {
    "id": "ZFOy4IV7d4OZ"
   },
   "outputs": [
    {
     "name": "stdout",
     "output_type": "stream",
     "text": [
      "Muestra de las 5 primeras filas de X:\n",
      "[[1.799e+01 1.038e+01 1.228e+02 1.001e+03 1.184e-01 2.776e-01 3.001e-01\n",
      "  1.471e-01 2.419e-01 7.871e-02 1.095e+00 9.053e-01 8.589e+00 1.534e+02\n",
      "  6.399e-03 4.904e-02 5.373e-02 1.587e-02 3.003e-02 6.193e-03 2.538e+01\n",
      "  1.733e+01 1.846e+02 2.019e+03 1.622e-01 6.656e-01 7.119e-01 2.654e-01\n",
      "  4.601e-01 1.189e-01]\n",
      " [2.057e+01 1.777e+01 1.329e+02 1.326e+03 8.474e-02 7.864e-02 8.690e-02\n",
      "  7.017e-02 1.812e-01 5.667e-02 5.435e-01 7.339e-01 3.398e+00 7.408e+01\n",
      "  5.225e-03 1.308e-02 1.860e-02 1.340e-02 1.389e-02 3.532e-03 2.499e+01\n",
      "  2.341e+01 1.588e+02 1.956e+03 1.238e-01 1.866e-01 2.416e-01 1.860e-01\n",
      "  2.750e-01 8.902e-02]\n",
      " [1.969e+01 2.125e+01 1.300e+02 1.203e+03 1.096e-01 1.599e-01 1.974e-01\n",
      "  1.279e-01 2.069e-01 5.999e-02 7.456e-01 7.869e-01 4.585e+00 9.403e+01\n",
      "  6.150e-03 4.006e-02 3.832e-02 2.058e-02 2.250e-02 4.571e-03 2.357e+01\n",
      "  2.553e+01 1.525e+02 1.709e+03 1.444e-01 4.245e-01 4.504e-01 2.430e-01\n",
      "  3.613e-01 8.758e-02]\n",
      " [1.142e+01 2.038e+01 7.758e+01 3.861e+02 1.425e-01 2.839e-01 2.414e-01\n",
      "  1.052e-01 2.597e-01 9.744e-02 4.956e-01 1.156e+00 3.445e+00 2.723e+01\n",
      "  9.110e-03 7.458e-02 5.661e-02 1.867e-02 5.963e-02 9.208e-03 1.491e+01\n",
      "  2.650e+01 9.887e+01 5.677e+02 2.098e-01 8.663e-01 6.869e-01 2.575e-01\n",
      "  6.638e-01 1.730e-01]\n",
      " [2.029e+01 1.434e+01 1.351e+02 1.297e+03 1.003e-01 1.328e-01 1.980e-01\n",
      "  1.043e-01 1.809e-01 5.883e-02 7.572e-01 7.813e-01 5.438e+00 9.444e+01\n",
      "  1.149e-02 2.461e-02 5.688e-02 1.885e-02 1.756e-02 5.115e-03 2.254e+01\n",
      "  1.667e+01 1.522e+02 1.575e+03 1.374e-01 2.050e-01 4.000e-01 1.625e-01\n",
      "  2.364e-01 7.678e-02]]\n",
      "\n",
      "Muestra de los 5 primeros targets en y:\n",
      "[0 0 0 0 0]\n",
      "\n",
      "Dimensión de X: (569, 30)\n",
      "Dimensión de y: (569,)\n",
      "\n",
      "Nombre de las columnas: ['mean radius' 'mean texture' 'mean perimeter' 'mean area'\n",
      " 'mean smoothness' 'mean compactness' 'mean concavity'\n",
      " 'mean concave points' 'mean symmetry' 'mean fractal dimension'\n",
      " 'radius error' 'texture error' 'perimeter error' 'area error'\n",
      " 'smoothness error' 'compactness error' 'concavity error'\n",
      " 'concave points error' 'symmetry error' 'fractal dimension error'\n",
      " 'worst radius' 'worst texture' 'worst perimeter' 'worst area'\n",
      " 'worst smoothness' 'worst compactness' 'worst concavity'\n",
      " 'worst concave points' 'worst symmetry' 'worst fractal dimension']\n",
      "\n",
      "Nombre de los target: ['malignant' 'benign']\n"
     ]
    }
   ],
   "source": [
    "# 1. Cargar el dataset breast_cancer\n",
    "from sklearn.datasets import load_breast_cancer\n",
    "\n",
    "bc = load_breast_cancer()\n",
    "X, y = bc.data, bc.target\n",
    "\n",
    "# 2. Mostrar los 5 primeros datos de los preditores\n",
    "print(f\"Muestra de las 5 primeras filas de X:\\n{X[:5]}\")\n",
    "\n",
    "# 3. Mostrar los 5 primeros datos del target\n",
    "print(f\"\\nMuestra de los 5 primeros targets en y:\\n{y[:5]}\")\n",
    "\n",
    "# 4. Mostrar la dimensión de los predictores y del target\n",
    "print(f\"\\nDimensión de X: {X.shape}\")\n",
    "print(f\"Dimensión de y: {y.shape}\")\n",
    "\n",
    "# 5. Mostrar los nombres de las columnas de los predictores\n",
    "print(f\"\\nNombre de las columnas: {bc.feature_names}\")\n",
    "\n",
    "# 6. Mostrar los nombres de las clases del target\n",
    "print(f\"\\nNombre de los target: {bc.target_names}\")"
   ]
  },
  {
   "cell_type": "markdown",
   "metadata": {
    "id": "pMLKnmHWPeIQ"
   },
   "source": [
    "## Dividir el conjunto de datos\n",
    "\n",
    "Se divide el dataset en train y test, paso esencial para evaluar el rendimiento del modelo.\n",
    "\n",
    "Enlace a la documentación de la función [train_test_split](https://scikit-learn.org/stable/modules/generated/sklearn.model_selection.train_test_split.html#sklearn.model_selection.train_test_split)\n",
    "\n",
    "TAREA: Utilizando la función **train_test_split** dividir los datos en dos conjuntos de train y test. El conjunto de train debe contener el 80% y el conjunto de test el 20%. A continuación, muestra la dimensionalidad de los conjuntos de train y test, para los predictores y el target."
   ]
  },
  {
   "cell_type": "code",
   "execution_count": 4,
   "metadata": {
    "id": "S688dLBDPg6R"
   },
   "outputs": [],
   "source": [
    "from sklearn.model_selection import train_test_split\n",
    "\n",
    "X_train, X_test, y_train, y_test = train_test_split(X, y, test_size=0.2, random_state=69)"
   ]
  },
  {
   "cell_type": "code",
   "execution_count": 5,
   "metadata": {
    "id": "59dkcM3RQNDi"
   },
   "outputs": [
    {
     "name": "stdout",
     "output_type": "stream",
     "text": [
      "Dimensión de X_train: (455, 30)\n",
      "Dimensión de y_train: (455,)\n",
      "\n",
      "Dimensión de X_test: (114, 30)\n",
      "Dimensión de y_test: (114,)\n"
     ]
    }
   ],
   "source": [
    "print(f\"Dimensión de X_train: {X_train.shape}\")\n",
    "print(f\"Dimensión de y_train: {y_train.shape}\")\n",
    "\n",
    "print(f\"\\nDimensión de X_test: {X_test.shape}\")\n",
    "print(f\"Dimensión de y_test: {y_test.shape}\")"
   ]
  },
  {
   "cell_type": "markdown",
   "metadata": {
    "id": "UFfjGockPJ-q"
   },
   "source": [
    "## Preprocesamiento de datos"
   ]
  },
  {
   "cell_type": "markdown",
   "metadata": {
    "id": "5Xe6ZVcunhYJ"
   },
   "source": [
    "TAREA: Ahora es necesario estandarizar los predictores (todos son atributos numéricos). Para ello habrá que completar los siguientes pasos:\n",
    "\n",
    "1. Importar la clase **StandardScaler** de scikit-learn.\n",
    "2. Instanciar la clase **StandardScaler**\n",
    "3. Entrenar el **StandardScaler** con los datos de train (X_train)\n",
    "4. Escalar los predictores de X_train y X_test"
   ]
  },
  {
   "cell_type": "code",
   "execution_count": 6,
   "metadata": {
    "id": "gWwVsD78NM2v"
   },
   "outputs": [],
   "source": [
    "from sklearn.preprocessing import StandardScaler\n",
    "\n",
    "# entrenar el scaler y normalizar\n",
    "scaler = StandardScaler()\n",
    "X_train_scaled = scaler.fit_transform(X_train)\n",
    "X_test_scaled = scaler.transform(X_test)"
   ]
  },
  {
   "cell_type": "markdown",
   "metadata": {
    "id": "WHaPsrVsRPYe"
   },
   "source": [
    "## Entrenamiento de un modelo de machine learning\n",
    "\n",
    "TAREA: Para el entrenamiento hay que realizar las siguientes tareas:\n",
    "\n",
    "1. Seleccionar el modelo. Para este ejemplo importaremos la clase **LogisticRegression**.\n",
    "2. Instanciar el modelo de **LogisticRegression**.\n",
    "3. Entrenar el modelo con los datos de entrenamiento (`X_train_scaled`, `y_train`)"
   ]
  },
  {
   "cell_type": "code",
   "execution_count": 7,
   "metadata": {
    "id": "gBbTH8ahRSC1"
   },
   "outputs": [],
   "source": [
    "from sklearn.linear_model import LogisticRegression\n",
    "\n",
    "model = LogisticRegression(max_iter=10000, random_state=69).fit(X_train_scaled, y_train)"
   ]
  },
  {
   "cell_type": "markdown",
   "metadata": {
    "id": "2QGaQIlXa57m"
   },
   "source": [
    "## Evaluación del modelo de machine learning\n",
    "\n",
    "La librería scikit-learn proporciona un gran número de métricas para evaluar los modelos.\n",
    "\n",
    "Enlace a la documentación del [módulo de métricas](https://scikit-learn.org/stable/api/sklearn.metrics.html)"
   ]
  },
  {
   "cell_type": "markdown",
   "metadata": {
    "id": "NEup5p2OqEoA"
   },
   "source": [
    "TAREA: Ahora vamos a obtener las predicciones del modelo con los datos de test:\n",
    "\n",
    "1. Obtener las predicciones de las clases de X_test\n",
    "2. Obtener las probabilidades de las clases predichas de X_test\n",
    "3. Mostrar las 10 primeras clases predichas y las 10 primeras probabilidades de las clases predichas"
   ]
  },
  {
   "cell_type": "code",
   "execution_count": 8,
   "metadata": {
    "id": "sXJjcf-Chf-N"
   },
   "outputs": [
    {
     "name": "stdout",
     "output_type": "stream",
     "text": [
      "Preddiciones (clases):\n",
      " [0 0 0 1 0 0 1 1 1 0]\n",
      "\n",
      "Preddiciones (probabilidades):\n",
      "[[9.83037649e-01 1.69623513e-02]\n",
      " [9.97013273e-01 2.98672731e-03]\n",
      " [9.91207261e-01 8.79273875e-03]\n",
      " [1.40423365e-01 8.59576635e-01]\n",
      " [9.62249673e-01 3.77503270e-02]\n",
      " [1.00000000e+00 1.85243844e-13]\n",
      " [1.70767428e-03 9.98292326e-01]\n",
      " [9.83382124e-02 9.01661788e-01]\n",
      " [2.66604686e-02 9.73339531e-01]\n",
      " [9.99990763e-01 9.23747640e-06]]\n"
     ]
    }
   ],
   "source": [
    "y_pred = model.predict(X_test_scaled)\n",
    "y_score = model.predict_proba(X_test_scaled)\n",
    "\n",
    "print(f\"Preddiciones (clases):\\n {y_pred[:10]}\")\n",
    "print(f\"\\nPreddiciones (probabilidades):\\n{y_score[:10]}\")"
   ]
  },
  {
   "cell_type": "markdown",
   "metadata": {
    "id": "gx7lK0R_qt5s"
   },
   "source": [
    "TAREA: Obtener el accuracy del modelo"
   ]
  },
  {
   "cell_type": "code",
   "execution_count": 9,
   "metadata": {
    "colab": {
     "base_uri": "https://localhost:8080/"
    },
    "executionInfo": {
     "elapsed": 6,
     "status": "ok",
     "timestamp": 1707649516156,
     "user": {
      "displayName": "Pablo Guti Ruiz",
      "userId": "07443762493544230230"
     },
     "user_tz": -60
    },
    "id": "iQ9obYJdRbm2",
    "outputId": "c7692cd2-1c8e-49df-98d0-302bc4a3ce3f"
   },
   "outputs": [
    {
     "name": "stdout",
     "output_type": "stream",
     "text": [
      "Accuracy: 0.9473684210526315\n"
     ]
    }
   ],
   "source": [
    "from sklearn.metrics import accuracy_score\n",
    "\n",
    "accuracy = accuracy_score(y_test, y_pred)\n",
    "\n",
    "print(f\"Accuracy: {accuracy}\")"
   ]
  },
  {
   "cell_type": "markdown",
   "metadata": {
    "id": "VLT4uWj9rUBK"
   },
   "source": [
    "TAREA: Graficar la matriz de confusión"
   ]
  },
  {
   "cell_type": "code",
   "execution_count": 10,
   "metadata": {
    "id": "OFHiOwTfbqO7"
   },
   "outputs": [
    {
     "data": {
      "image/png": "[encoded data removed]",
      "text/plain": [
       "<Figure size 640x480 with 2 Axes>"
      ]
     },
     "metadata": {},
     "output_type": "display_data"
    }
   ],
   "source": [
    "# TODO: Importar la funcisón confusion_matrix y la clase ConfusionMatrixDisplay\n",
    "from sklearn.metrics import confusion_matrix, ConfusionMatrixDisplay\n",
    "import matplotlib.pyplot  as plt\n",
    "\n",
    "cm = confusion_matrix(y_test, y_pred)\n",
    "\n",
    "# TODO: Con la clase ConfusionMatrixDisplay, graficar la matriz de confusión\n",
    "ConfusionMatrixDisplay(confusion_matrix=cm, display_labels=bc.target_names).plot()\n",
    "plt.show()"
   ]
  },
  {
   "cell_type": "markdown",
   "metadata": {
    "id": "YN1ekFGFtP4q"
   },
   "source": [
    "TAREA: Obtener las siguientes métricas:\n",
    "\n",
    "1. Precisión\n",
    "2. Recall\n",
    "3. F1"
   ]
  },
  {
   "cell_type": "code",
   "execution_count": 11,
   "metadata": {
    "id": "VPASea60cn2u"
   },
   "outputs": [
    {
     "name": "stdout",
     "output_type": "stream",
     "text": [
      "Precision: 0.9509375\n",
      "Recall: 0.9453703703703704\n",
      "f1: 0.9469602977667494\n"
     ]
    }
   ],
   "source": [
    "# TODO: Importar las funciones de precision_score, recall_score y f1_score\n",
    "from sklearn.metrics import precision_score, recall_score, f1_score\n",
    "\n",
    "\n",
    "precision = precision_score(y_test, y_pred, average=\"macro\")\n",
    "recall = recall_score(y_test, y_pred, average=\"macro\")\n",
    "f1 = f1_score(y_test, y_pred, average=\"macro\")\n",
    "\n",
    "print(f\"Precision: {precision}\")\n",
    "print(f\"Recall: {recall}\")\n",
    "print(f\"f1: {f1}\")"
   ]
  },
  {
   "cell_type": "markdown",
   "metadata": {
    "id": "IRDCD8y6txIq"
   },
   "source": [
    "TAREA: Obtener el área bajo la curva y la tasa de falsos positivos y verdaderos positivos."
   ]
  },
  {
   "cell_type": "code",
   "execution_count": 12,
   "metadata": {
    "id": "Mkwt4WCQhZnt"
   },
   "outputs": [
    {
     "name": "stdout",
     "output_type": "stream",
     "text": [
      "Área bajo la curva ROC: 0.9966049382716049\n"
     ]
    },
    {
     "data": {
      "image/png": "[encoded data removed]",
      "text/plain": [
       "<Figure size 800x600 with 1 Axes>"
      ]
     },
     "metadata": {},
     "output_type": "display_data"
    }
   ],
   "source": [
    "from sklearn.metrics import roc_auc_score, roc_curve\n",
    "\n",
    "roc_auc = roc_auc_score(y_test, y_score[:, 1])\n",
    "fpr, tpr, thresholds = roc_curve(y_test, y_score[:, 1])\n",
    "\n",
    "print(f\"Área bajo la curva ROC: {roc_auc}\")\n",
    "\n",
    "plt.figure(figsize=(8, 6))\n",
    "plt.plot(fpr, tpr, label=f\"Curva ROC (área = {roc_auc:.3f})\")\n",
    "plt.plot([0, 1], [0, 1], \"k--\")\n",
    "plt.xlabel(\"False Positive Rate\")\n",
    "plt.ylabel(\"True Positive Rate\")\n",
    "plt.title(\"Curva ROC\")\n",
    "plt.legend(loc=\"lower right\")\n",
    "plt.show()"
   ]
  },
  {
   "cell_type": "markdown",
   "metadata": {
    "id": "PTnSDwgikeoS"
   },
   "source": [
    "## Ajuste de hiperparámetros\n",
    "\n"
   ]
  },
  {
   "cell_type": "code",
   "execution_count": 13,
   "metadata": {
    "id": "9eZX8jyOkd3z"
   },
   "outputs": [
    {
     "name": "stderr",
     "output_type": "stream",
     "text": [
      "/home/ldcas/cum3/AID-Labs/.venv/lib/python3.13/site-packages/sklearn/linear_model/_logistic.py:465: ConvergenceWarning: lbfgs failed to converge (status=1):\n",
      "STOP: TOTAL NO. OF ITERATIONS REACHED LIMIT.\n",
      "\n",
      "Increase the number of iterations (max_iter) or scale the data as shown in:\n",
      "    https://scikit-learn.org/stable/modules/preprocessing.html\n",
      "Please also refer to the documentation for alternative solver options:\n",
      "    https://scikit-learn.org/stable/modules/linear_model.html#logistic-regression\n",
      "  n_iter_i = _check_optimize_result(\n"
     ]
    },
    {
     "name": "stdout",
     "output_type": "stream",
     "text": [
      "Mejores parámetros: {'C': 100, 'solver': 'lbfgs'}\n"
     ]
    }
   ],
   "source": [
    "from sklearn.model_selection import GridSearchCV\n",
    "\n",
    "parameters = {\n",
    "    \"C\": [0.1, 1, 10, 100],\n",
    "    \"solver\": [\"liblinear\", \"sag\", \"saga\", \"lbfgs\"]\n",
    "}\n",
    "\n",
    "model = LogisticRegression(max_iter=10000, random_state=69)\n",
    "\n",
    "clf = GridSearchCV(\n",
    "    model,\n",
    "    parameters,\n",
    "    cv=5\n",
    ")\n",
    "clf.fit(X_train, y_train)\n",
    "\n",
    "print(f'Mejores parámetros: {clf.best_params_}')"
   ]
  },
  {
   "cell_type": "code",
   "execution_count": 14,
   "metadata": {
    "id": "ECJHAnikltBf"
   },
   "outputs": [
    {
     "name": "stdout",
     "output_type": "stream",
     "text": [
      "Accuracy CV: 0.947\n",
      "Accuracy: 0.947\n",
      "\n",
      "Precision CV: 0.949\n",
      "Precision: 0.951\n",
      "\n",
      "Recall CV: 0.946\n",
      "Recall: 0.945\n",
      "\n",
      "f1 CV: 0.947\n",
      "f1: 0.947\n",
      "\n",
      "Área bajo la curva ROC CV: 0.994\n",
      "Área bajo la curva ROC: 0.997\n",
      "\n"
     ]
    },
    {
     "data": {
      "image/png": "[encoded data removed]",
      "text/plain": [
       "<Figure size 800x600 with 1 Axes>"
      ]
     },
     "metadata": {},
     "output_type": "display_data"
    }
   ],
   "source": [
    "y_pred_cv = clf.predict(X_test)\n",
    "y_score_cv = clf.predict_proba(X_test)\n",
    "\n",
    "accuracy_cv = accuracy_score(y_test, y_pred_cv)\n",
    "print(f\"Accuracy CV: {accuracy_cv:.3f}\")\n",
    "print(f\"Accuracy: {accuracy:.3f}\")\n",
    "\n",
    "precision_cv = precision_score(y_test, y_pred_cv, average=\"macro\")\n",
    "recall_cv = recall_score(y_test, y_pred_cv, average=\"macro\")\n",
    "f1_cv = f1_score(y_test, y_pred_cv, average=\"macro\")\n",
    "print(f\"\\nPrecision CV: {precision_cv:.3f}\")\n",
    "print(f\"Precision: {precision:.3f}\")\n",
    "print(f\"\\nRecall CV: {recall_cv:.3f}\")\n",
    "print(f\"Recall: {recall:.3f}\")\n",
    "print(f\"\\nf1 CV: {f1_cv:.3f}\")\n",
    "print(f\"f1: {f1:.3f}\")\n",
    "\n",
    "roc_auc_cv = roc_auc_score(y_test, y_score_cv[:, 1])\n",
    "fpr_cv, tpr_cv, thresholds_cv = roc_curve(y_test, y_score_cv[:, 1])\n",
    "\n",
    "print(f\"\\nÁrea bajo la curva ROC CV: {roc_auc_cv:.3f}\")\n",
    "print(f\"Área bajo la curva ROC: {roc_auc:.3f}\\n\")\n",
    "\n",
    "plt.figure(figsize=(8, 6))\n",
    "plt.plot(fpr_cv, tpr_cv, label=f\"Curva ROC CV (área = {roc_auc_cv:.3f})\")\n",
    "plt.plot(fpr, tpr, label=f\"Curva ROC (área = {roc_auc_cv:.3f})\")\n",
    "plt.plot([0, 1], [0, 1], \"k--\")\n",
    "plt.xlabel(\"False Positive Rate\")\n",
    "plt.ylabel(\"True Positive Rate\")\n",
    "plt.title(\"Curva ROC\")\n",
    "plt.legend(loc=\"lower right\")\n",
    "plt.show()"
   ]
  },
  {
   "cell_type": "markdown",
   "metadata": {
    "id": "dldOR7XtwUHM"
   },
   "source": [
    "## Pipelines de scikit-learn\n",
    "\n",
    "Los pipelines de scikit-learn permiten encadenar de forma secuencial y eficiente múltiples pasos de preprocesamiento y modelo. Con los pipelines se simplifican los flujos de trabajo y previenen errores comúnes como los \"data leakage\"."
   ]
  },
  {
   "cell_type": "code",
   "execution_count": 15,
   "metadata": {
    "id": "cEdaayjSwWn-"
   },
   "outputs": [],
   "source": [
    "bc = load_breast_cancer()\n",
    "X, y = bc.data, bc.target"
   ]
  },
  {
   "cell_type": "code",
   "execution_count": 16,
   "metadata": {
    "id": "nQBjA3bWwbZv"
   },
   "outputs": [],
   "source": [
    "X_train, X_test, y_train, y_test = train_test_split(\n",
    "    X,\n",
    "    y,\n",
    "    test_size=0.2,\n",
    "    random_state=1234\n",
    ")"
   ]
  },
  {
   "cell_type": "markdown",
   "metadata": {
    "id": "O5vh-QK-1hkO"
   },
   "source": [
    "TAREA: Mirando la documentación de scikit-learn, usa un Pipeline que contenga un StandardScaler y un LogisticRegression."
   ]
  },
  {
   "cell_type": "code",
   "execution_count": 17,
   "metadata": {
    "id": "e8v2bK1vwiub"
   },
   "outputs": [],
   "source": [
    "from sklearn.pipeline import Pipeline\n",
    "\n",
    "pipeline = Pipeline([\n",
    "    ('scaler', StandardScaler()),\n",
    "    ('clf', LogisticRegression(max_iter=10000, random_state=69))\n",
    "])"
   ]
  },
  {
   "cell_type": "code",
   "execution_count": 18,
   "metadata": {
    "id": "l8g0XSVrwprh"
   },
   "outputs": [],
   "source": [
    "parameters = {\n",
    "    \"clf__C\": [0.1, 1, 10, 100],\n",
    "    \"clf__solver\": [\"liblinear\", \"sag\", \"saga\", \"lbfgs\"]\n",
    "}"
   ]
  },
  {
   "cell_type": "code",
   "execution_count": 20,
   "metadata": {
    "id": "lRZCvdQzwzd7"
   },
   "outputs": [
    {
     "name": "stdout",
     "output_type": "stream",
     "text": [
      "Mejores parámetros: {'clf__C': 0.1, 'clf__solver': 'liblinear'}\n"
     ]
    }
   ],
   "source": [
    "grid_search = GridSearchCV(\n",
    "    pipeline,\n",
    "    parameters,\n",
    "    cv=5\n",
    ")\n",
    "grid_search.fit(X_train, y_train)\n",
    "\n",
    "print(f'Mejores parámetros: {grid_search.best_params_}')"
   ]
  },
  {
   "cell_type": "code",
   "execution_count": 22,
   "metadata": {
    "id": "-wIeyNMfw_F4"
   },
   "outputs": [
    {
     "name": "stdout",
     "output_type": "stream",
     "text": [
      "Accuracy: 0.965\n",
      "\n",
      "Precision: 0.973\n",
      "Recall: 0.956\n",
      "f1: 0.963\n",
      "Área bajo la curva ROC: 0.997\n",
      "\n"
     ]
    },
    {
     "data": {
      "image/png": "[encoded data removed]",
      "text/plain": [
       "<Figure size 800x600 with 1 Axes>"
      ]
     },
     "metadata": {},
     "output_type": "display_data"
    }
   ],
   "source": [
    "y_pred = grid_search.predict(X_test)\n",
    "y_score = grid_search.predict_proba(X_test)\n",
    "\n",
    "accuracy = accuracy_score(y_test, y_pred)\n",
    "print(f\"Accuracy: {accuracy:.3f}\")\n",
    "\n",
    "precision = precision_score(y_test, y_pred, average=\"macro\")\n",
    "recall = recall_score(y_test, y_pred, average=\"macro\")\n",
    "f1 = f1_score(y_test, y_pred, average=\"macro\")\n",
    "print(f\"\\nPrecision: {precision:.3f}\")\n",
    "print(f\"Recall: {recall:.3f}\")\n",
    "print(f\"f1: {f1:.3f}\")\n",
    "\n",
    "roc_auc_ = roc_auc_score(y_test, y_score[:, 1])\n",
    "fpr, tpr, thresholds = roc_curve(y_test, y_score[:, 1])\n",
    "\n",
    "print(f\"Área bajo la curva ROC: {roc_auc:.3f}\\n\")\n",
    "\n",
    "plt.figure(figsize=(8, 6))\n",
    "plt.plot(fpr, tpr, label=f\"Curva ROC (área = {roc_auc:.3f})\")\n",
    "plt.plot([0, 1], [0, 1], \"k--\")\n",
    "plt.xlabel(\"False Positive Rate\")\n",
    "plt.ylabel(\"True Positive Rate\")\n",
    "plt.title(\"Curva ROC\")\n",
    "plt.legend(loc=\"lower right\")\n",
    "plt.show()"
   ]
  }
 ],
 "metadata": {
  "colab": {
   "authorship_tag": "ABX9TyM5PtCbAYADMHPzLvjfjIKK",
   "provenance": []
  },
  "kernelspec": {
   "display_name": ".venv",
   "language": "python",
   "name": "python3"
  },
  "language_info": {
   "codemirror_mode": {
    "name": "ipython",
    "version": 3
   },
   "file_extension": ".py",
   "mimetype": "text/x-python",
   "name": "python",
   "nbconvert_exporter": "python",
   "pygments_lexer": "ipython3",
   "version": "3.13.2"
  }
 },
 "nbformat": 4,
 "nbformat_minor": 0
}

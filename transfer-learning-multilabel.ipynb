{
 "cells": [
  {
   "cell_type": "markdown",
   "metadata": {},
   "source": [
    "# Transfer Learning - Multilabel"
   ]
  },
  {
   "cell_type": "code",
   "execution_count": 1,
   "metadata": {
    "colab": {
     "base_uri": "https://localhost:8080/"
    },
    "executionInfo": {
     "elapsed": 2204,
     "status": "ok",
     "timestamp": 1710776592892,
     "user": {
      "displayName": "Pablo Guti Ruiz",
      "userId": "07443762493544230230"
     },
     "user_tz": -60
    },
    "id": "RfxSqgspNnUI",
    "outputId": "65a7796a-3710-40e8-e3cb-86218e303f3b"
   },
   "outputs": [
    {
     "name": "stdout",
     "output_type": "stream",
     "text": [
      "Dispositivo disponible: cpu\n"
     ]
    }
   ],
   "source": [
    "import torch\n",
    "\n",
    "device = torch.device(\"cuda\" if torch.cuda.is_available() else \"cpu\")\n",
    "\n",
    "print(f\"Dispositivo disponible: {device}\")"
   ]
  },
  {
   "cell_type": "code",
   "execution_count": 2,
   "metadata": {
    "executionInfo": {
     "elapsed": 4,
     "status": "ok",
     "timestamp": 1710776592893,
     "user": {
      "displayName": "Pablo Guti Ruiz",
      "userId": "07443762493544230230"
     },
     "user_tz": -60
    },
    "id": "Ohg0GhxlLt13"
   },
   "outputs": [],
   "source": [
    "from torch.utils.data import Dataset\n",
    "class MultilabelDataset(Dataset):\n",
    "  def __init__(self, num_images=20, transform=None):\n",
    "    self.num_images = num_images\n",
    "    self.transform = transform\n",
    "    self.images = torch.randn(num_images, 3, 28, 28)\n",
    "    self.labels = torch.randint(0, 2, (num_images, 3))\n",
    "\n",
    "  def __len__(self):\n",
    "      return self.num_images\n",
    "\n",
    "  def __getitem__(self, idx):\n",
    "      image = self.images[idx]\n",
    "      label = self.labels[idx]\n",
    "      if self.transform:\n",
    "          image = self.transform(image)\n",
    "      return image, label"
   ]
  },
  {
   "cell_type": "code",
   "execution_count": 3,
   "metadata": {
    "executionInfo": {
     "elapsed": 2102,
     "status": "ok",
     "timestamp": 1710776594992,
     "user": {
      "displayName": "Pablo Guti Ruiz",
      "userId": "07443762493544230230"
     },
     "user_tz": -60
    },
    "id": "iJzV_mTvM3wC"
   },
   "outputs": [],
   "source": [
    "from torchvision import transforms\n",
    "\n",
    "transformations = transforms.Compose([\n",
    "    transforms.Resize((224, 224)),\n",
    "    transforms.RandomHorizontalFlip(),\n",
    "    transforms.Normalize(mean=[0.485, 0.456, 0.406], std=[0.229, 0.224, 0.225]),\n",
    "])"
   ]
  },
  {
   "cell_type": "code",
   "execution_count": 4,
   "metadata": {
    "executionInfo": {
     "elapsed": 5,
     "status": "ok",
     "timestamp": 1710776594993,
     "user": {
      "displayName": "Pablo Guti Ruiz",
      "userId": "07443762493544230230"
     },
     "user_tz": -60
    },
    "id": "LffJww16NT7E"
   },
   "outputs": [],
   "source": [
    "from torch.utils.data import DataLoader\n",
    "\n",
    "dataset = MultilabelDataset(transform=transformations)\n",
    "dataloader = DataLoader(dataset, batch_size=8, shuffle=True)"
   ]
  },
  {
   "cell_type": "code",
   "execution_count": 5,
   "metadata": {
    "colab": {
     "base_uri": "https://localhost:8080/"
    },
    "executionInfo": {
     "elapsed": 1539,
     "status": "ok",
     "timestamp": 1710776596527,
     "user": {
      "displayName": "Pablo Guti Ruiz",
      "userId": "07443762493544230230"
     },
     "user_tz": -60
    },
    "id": "mi7XFugoNYrd",
    "outputId": "cfb329a5-b10d-4e8c-f616-6ff8cc3837c8"
   },
   "outputs": [
    {
     "name": "stderr",
     "output_type": "stream",
     "text": [
      "/home/ldcas/cum3/AID-Labs/.venv/lib/python3.13/site-packages/torchvision/models/_utils.py:208: UserWarning: The parameter 'pretrained' is deprecated since 0.13 and may be removed in the future, please use 'weights' instead.\n",
      "  warnings.warn(\n",
      "/home/ldcas/cum3/AID-Labs/.venv/lib/python3.13/site-packages/torchvision/models/_utils.py:223: UserWarning: Arguments other than a weight enum or `None` for 'weights' are deprecated since 0.13 and may be removed in the future. The current behavior is equivalent to passing `weights=AlexNet_Weights.IMAGENET1K_V1`. You can also use `weights=AlexNet_Weights.DEFAULT` to get the most up-to-date weights.\n",
      "  warnings.warn(msg)\n"
     ]
    },
    {
     "data": {
      "text/plain": [
       "AlexNet(\n",
       "  (features): Sequential(\n",
       "    (0): Conv2d(3, 64, kernel_size=(11, 11), stride=(4, 4), padding=(2, 2))\n",
       "    (1): ReLU(inplace=True)\n",
       "    (2): MaxPool2d(kernel_size=3, stride=2, padding=0, dilation=1, ceil_mode=False)\n",
       "    (3): Conv2d(64, 192, kernel_size=(5, 5), stride=(1, 1), padding=(2, 2))\n",
       "    (4): ReLU(inplace=True)\n",
       "    (5): MaxPool2d(kernel_size=3, stride=2, padding=0, dilation=1, ceil_mode=False)\n",
       "    (6): Conv2d(192, 384, kernel_size=(3, 3), stride=(1, 1), padding=(1, 1))\n",
       "    (7): ReLU(inplace=True)\n",
       "    (8): Conv2d(384, 256, kernel_size=(3, 3), stride=(1, 1), padding=(1, 1))\n",
       "    (9): ReLU(inplace=True)\n",
       "    (10): Conv2d(256, 256, kernel_size=(3, 3), stride=(1, 1), padding=(1, 1))\n",
       "    (11): ReLU(inplace=True)\n",
       "    (12): MaxPool2d(kernel_size=3, stride=2, padding=0, dilation=1, ceil_mode=False)\n",
       "  )\n",
       "  (avgpool): AdaptiveAvgPool2d(output_size=(6, 6))\n",
       "  (classifier): Sequential(\n",
       "    (0): Dropout(p=0.5, inplace=False)\n",
       "    (1): Linear(in_features=9216, out_features=4096, bias=True)\n",
       "    (2): ReLU(inplace=True)\n",
       "    (3): Dropout(p=0.5, inplace=False)\n",
       "    (4): Linear(in_features=4096, out_features=4096, bias=True)\n",
       "    (5): ReLU(inplace=True)\n",
       "    (6): Linear(in_features=4096, out_features=3, bias=True)\n",
       "  )\n",
       ")"
      ]
     },
     "execution_count": 5,
     "metadata": {},
     "output_type": "execute_result"
    }
   ],
   "source": [
    "from torchvision.models import alexnet\n",
    "import torch.nn as nn\n",
    "\n",
    "model = alexnet(pretrained=True)\n",
    "\n",
    "for param in model.features.parameters():\n",
    "    param.requires_grad = False\n",
    "\n",
    "model.classifier[6] = nn.Linear(model.classifier[6].in_features, 3)\n",
    "\n",
    "model.to(device)"
   ]
  },
  {
   "cell_type": "code",
   "execution_count": 6,
   "metadata": {
    "executionInfo": {
     "elapsed": 9,
     "status": "ok",
     "timestamp": 1710776596529,
     "user": {
      "displayName": "Pablo Guti Ruiz",
      "userId": "07443762493544230230"
     },
     "user_tz": -60
    },
    "id": "-9H-WYZNNqJj"
   },
   "outputs": [],
   "source": [
    "import torch.optim as optim\n",
    "\n",
    "criterion = nn.BCEWithLogitsLoss()\n",
    "optimizer = optim.Adam(model.classifier[6].parameters(), lr=0.001)"
   ]
  },
  {
   "cell_type": "code",
   "execution_count": 7,
   "metadata": {
    "colab": {
     "base_uri": "https://localhost:8080/"
    },
    "executionInfo": {
     "elapsed": 11857,
     "status": "ok",
     "timestamp": 1710776608378,
     "user": {
      "displayName": "Pablo Guti Ruiz",
      "userId": "07443762493544230230"
     },
     "user_tz": -60
    },
    "id": "WtLE5VAdNxqH",
    "outputId": "74e1f5c3-a5fe-4f3d-ec49-11b75931d042"
   },
   "outputs": [
    {
     "name": "stdout",
     "output_type": "stream",
     "text": [
      "Epoch 1, Loss: 1.0620327790578206\n",
      "Epoch 2, Loss: 0.7389569679896036\n",
      "Epoch 3, Loss: 0.9474108616511027\n",
      "Epoch 4, Loss: 0.8105323910713196\n",
      "Epoch 5, Loss: 0.8486212491989136\n"
     ]
    }
   ],
   "source": [
    "num_epochs = 5\n",
    "for epoch in range(num_epochs):\n",
    "    model.train()\n",
    "    running_loss = 0.0\n",
    "    for inputs, labels in dataloader:\n",
    "        inputs, labels = inputs.to(device), labels.to(device).float()\n",
    "\n",
    "        optimizer.zero_grad()\n",
    "\n",
    "        outputs = model(inputs)\n",
    "        loss = criterion(outputs, labels)\n",
    "        loss.backward()\n",
    "        optimizer.step()\n",
    "\n",
    "        running_loss += loss.item()\n",
    "    print(f\"Epoch {epoch+1}, Loss: {running_loss/len(dataloader)}\")"
   ]
  },
  {
   "cell_type": "code",
   "execution_count": 8,
   "metadata": {
    "colab": {
     "base_uri": "https://localhost:8080/"
    },
    "executionInfo": {
     "elapsed": 2180,
     "status": "ok",
     "timestamp": 1710776736326,
     "user": {
      "displayName": "Pablo Guti Ruiz",
      "userId": "07443762493544230230"
     },
     "user_tz": -60
    },
    "id": "KP5U9o4lN7XS",
    "outputId": "b693d03b-0e63-44b5-da34-3b71154ef0af"
   },
   "outputs": [
    {
     "name": "stdout",
     "output_type": "stream",
     "text": [
      "              precision    recall  f1-score   support\n",
      "\n",
      "     Clase_1       0.41      1.00      0.58         7\n",
      "     Clase_2       0.33      0.25      0.29         8\n",
      "     Clase_3       0.00      0.00      0.00        13\n",
      "\n",
      "   micro avg       0.38      0.32      0.35        28\n",
      "   macro avg       0.25      0.42      0.29        28\n",
      "weighted avg       0.20      0.32      0.23        28\n",
      " samples avg       0.32      0.35      0.32        28\n",
      "\n"
     ]
    },
    {
     "name": "stderr",
     "output_type": "stream",
     "text": [
      "/home/ldcas/cum3/AID-Labs/.venv/lib/python3.13/site-packages/sklearn/metrics/_classification.py:1565: UndefinedMetricWarning: Precision is ill-defined and being set to 0.0 in samples with no predicted labels. Use `zero_division` parameter to control this behavior.\n",
      "  _warn_prf(average, modifier, f\"{metric.capitalize()} is\", len(result))\n"
     ]
    }
   ],
   "source": [
    "from sklearn.metrics import classification_report\n",
    "\n",
    "model.eval()\n",
    "all_labels = []\n",
    "all_preds = []\n",
    "\n",
    "with torch.no_grad():\n",
    "    for inputs, labels in dataloader: # En la práctica aquí se deberan usar datos de test\n",
    "        inputs = inputs.to(device)\n",
    "        labels = labels.numpy(force=True)\n",
    "\n",
    "        outputs = model(inputs)\n",
    "        preds = torch.sigmoid(outputs).numpy(force=True) > 0.5\n",
    "\n",
    "        all_labels.extend(labels)\n",
    "        all_preds.extend(preds)\n",
    "\n",
    "print(classification_report(all_labels, all_preds, target_names=[\"Clase_1\", \"Clase_2\", \"Clase_3\"]))"
   ]
  }
 ],
 "metadata": {
  "colab": {
   "authorship_tag": "ABX9TyOhd/0tueX7b9qFAjsuW6vW",
   "provenance": []
  },
  "kernelspec": {
   "display_name": ".venv",
   "language": "python",
   "name": "python3"
  },
  "language_info": {
   "codemirror_mode": {
    "name": "ipython",
    "version": 3
   },
   "file_extension": ".py",
   "mimetype": "text/x-python",
   "name": "python",
   "nbconvert_exporter": "python",
   "pygments_lexer": "ipython3",
   "version": "3.13.2"
  }
 },
 "nbformat": 4,
 "nbformat_minor": 0
}
